{
 "cells": [
  {
   "cell_type": "markdown",
   "id": "21c9d070",
   "metadata": {},
   "source": [
    "# Import necessary libraries and load the dataset"
   ]
  },
  {
   "cell_type": "code",
   "execution_count": 1,
   "id": "a5c59f56",
   "metadata": {},
   "outputs": [],
   "source": [
    "import numpy as np\n",
    "import pandas as pd\n",
    "import matplotlib.pyplot as plt\n",
    "from sklearn.preprocessing import MinMaxScaler\n",
    "from keras.models import Sequential\n",
    "from keras.layers import LSTM, Dense\n",
    "from sklearn.metrics import mean_squared_error, mean_absolute_error\n",
    "from sklearn.model_selection import train_test_split"
   ]
  },
  {
   "cell_type": "code",
   "execution_count": 2,
   "id": "1aafb1d7",
   "metadata": {},
   "outputs": [],
   "source": [
    "%matplotlib inline"
   ]
  },
  {
   "cell_type": "markdown",
   "id": "498bb76b",
   "metadata": {},
   "source": [
    "# Load and inspect the dataset"
   ]
  },
  {
   "cell_type": "code",
   "execution_count": 3,
   "id": "3a1278d1",
   "metadata": {
    "scrolled": true
   },
   "outputs": [
    {
     "data": {
      "text/html": [
       "<div>\n",
       "<style scoped>\n",
       "    .dataframe tbody tr th:only-of-type {\n",
       "        vertical-align: middle;\n",
       "    }\n",
       "\n",
       "    .dataframe tbody tr th {\n",
       "        vertical-align: top;\n",
       "    }\n",
       "\n",
       "    .dataframe thead th {\n",
       "        text-align: right;\n",
       "    }\n",
       "</style>\n",
       "<table border=\"1\" class=\"dataframe\">\n",
       "  <thead>\n",
       "    <tr style=\"text-align: right;\">\n",
       "      <th></th>\n",
       "      <th>Date</th>\n",
       "      <th>Open</th>\n",
       "      <th>High</th>\n",
       "      <th>Low</th>\n",
       "      <th>Close</th>\n",
       "      <th>Adj Close</th>\n",
       "      <th>Volume</th>\n",
       "    </tr>\n",
       "  </thead>\n",
       "  <tbody>\n",
       "    <tr>\n",
       "      <th>0</th>\n",
       "      <td>2004-08-27</td>\n",
       "      <td>122.800003</td>\n",
       "      <td>122.800003</td>\n",
       "      <td>119.820000</td>\n",
       "      <td>120.332497</td>\n",
       "      <td>88.088272</td>\n",
       "      <td>30646000.0</td>\n",
       "    </tr>\n",
       "    <tr>\n",
       "      <th>1</th>\n",
       "      <td>2004-08-30</td>\n",
       "      <td>121.237503</td>\n",
       "      <td>123.750000</td>\n",
       "      <td>120.625000</td>\n",
       "      <td>123.345001</td>\n",
       "      <td>90.293549</td>\n",
       "      <td>24465208.0</td>\n",
       "    </tr>\n",
       "    <tr>\n",
       "      <th>2</th>\n",
       "      <td>2004-08-31</td>\n",
       "      <td>123.312500</td>\n",
       "      <td>123.750000</td>\n",
       "      <td>122.000000</td>\n",
       "      <td>123.512497</td>\n",
       "      <td>90.416122</td>\n",
       "      <td>21194656.0</td>\n",
       "    </tr>\n",
       "    <tr>\n",
       "      <th>3</th>\n",
       "      <td>2004-09-01</td>\n",
       "      <td>123.750000</td>\n",
       "      <td>124.375000</td>\n",
       "      <td>122.949997</td>\n",
       "      <td>123.487503</td>\n",
       "      <td>90.397820</td>\n",
       "      <td>19935544.0</td>\n",
       "    </tr>\n",
       "    <tr>\n",
       "      <th>4</th>\n",
       "      <td>2004-09-02</td>\n",
       "      <td>123.737503</td>\n",
       "      <td>125.574997</td>\n",
       "      <td>123.250000</td>\n",
       "      <td>124.207497</td>\n",
       "      <td>90.924896</td>\n",
       "      <td>21356352.0</td>\n",
       "    </tr>\n",
       "    <tr>\n",
       "      <th>5</th>\n",
       "      <td>2004-09-03</td>\n",
       "      <td>125.750000</td>\n",
       "      <td>137.500000</td>\n",
       "      <td>123.794998</td>\n",
       "      <td>124.732498</td>\n",
       "      <td>91.309212</td>\n",
       "      <td>9869856.0</td>\n",
       "    </tr>\n",
       "    <tr>\n",
       "      <th>6</th>\n",
       "      <td>2004-09-06</td>\n",
       "      <td>129.987503</td>\n",
       "      <td>129.987503</td>\n",
       "      <td>124.112503</td>\n",
       "      <td>124.357498</td>\n",
       "      <td>91.034721</td>\n",
       "      <td>9038672.0</td>\n",
       "    </tr>\n",
       "    <tr>\n",
       "      <th>7</th>\n",
       "      <td>2004-09-07</td>\n",
       "      <td>129.375000</td>\n",
       "      <td>129.375000</td>\n",
       "      <td>124.375000</td>\n",
       "      <td>124.449997</td>\n",
       "      <td>91.102440</td>\n",
       "      <td>5772232.0</td>\n",
       "    </tr>\n",
       "    <tr>\n",
       "      <th>8</th>\n",
       "      <td>2004-09-08</td>\n",
       "      <td>124.500000</td>\n",
       "      <td>125.099998</td>\n",
       "      <td>123.887497</td>\n",
       "      <td>124.212502</td>\n",
       "      <td>90.928566</td>\n",
       "      <td>6593984.0</td>\n",
       "    </tr>\n",
       "    <tr>\n",
       "      <th>9</th>\n",
       "      <td>2004-09-09</td>\n",
       "      <td>124.625000</td>\n",
       "      <td>124.737503</td>\n",
       "      <td>122.307503</td>\n",
       "      <td>122.495003</td>\n",
       "      <td>89.671310</td>\n",
       "      <td>7947184.0</td>\n",
       "    </tr>\n",
       "    <tr>\n",
       "      <th>10</th>\n",
       "      <td>2004-09-10</td>\n",
       "      <td>123.750000</td>\n",
       "      <td>123.750000</td>\n",
       "      <td>122.000000</td>\n",
       "      <td>123.599998</td>\n",
       "      <td>90.480194</td>\n",
       "      <td>6415072.0</td>\n",
       "    </tr>\n",
       "    <tr>\n",
       "      <th>11</th>\n",
       "      <td>2004-09-13</td>\n",
       "      <td>123.875000</td>\n",
       "      <td>126.937500</td>\n",
       "      <td>123.875000</td>\n",
       "      <td>125.437500</td>\n",
       "      <td>91.825348</td>\n",
       "      <td>20904912.0</td>\n",
       "    </tr>\n",
       "    <tr>\n",
       "      <th>12</th>\n",
       "      <td>2004-09-14</td>\n",
       "      <td>125.625000</td>\n",
       "      <td>127.349998</td>\n",
       "      <td>125.370003</td>\n",
       "      <td>126.957497</td>\n",
       "      <td>92.938019</td>\n",
       "      <td>15335472.0</td>\n",
       "    </tr>\n",
       "    <tr>\n",
       "      <th>13</th>\n",
       "      <td>2004-09-15</td>\n",
       "      <td>127.250000</td>\n",
       "      <td>127.500000</td>\n",
       "      <td>125.150002</td>\n",
       "      <td>125.762497</td>\n",
       "      <td>92.063225</td>\n",
       "      <td>11988288.0</td>\n",
       "    </tr>\n",
       "    <tr>\n",
       "      <th>14</th>\n",
       "      <td>2004-09-16</td>\n",
       "      <td>125.875000</td>\n",
       "      <td>126.875000</td>\n",
       "      <td>125.312500</td>\n",
       "      <td>126.057503</td>\n",
       "      <td>92.279190</td>\n",
       "      <td>7358224.0</td>\n",
       "    </tr>\n",
       "    <tr>\n",
       "      <th>15</th>\n",
       "      <td>2004-09-17</td>\n",
       "      <td>126.500000</td>\n",
       "      <td>128.737503</td>\n",
       "      <td>126.287498</td>\n",
       "      <td>128.062500</td>\n",
       "      <td>93.746925</td>\n",
       "      <td>14627896.0</td>\n",
       "    </tr>\n",
       "    <tr>\n",
       "      <th>16</th>\n",
       "      <td>2004-09-20</td>\n",
       "      <td>129.050003</td>\n",
       "      <td>129.612503</td>\n",
       "      <td>127.519997</td>\n",
       "      <td>127.862503</td>\n",
       "      <td>93.600525</td>\n",
       "      <td>8552224.0</td>\n",
       "    </tr>\n",
       "    <tr>\n",
       "      <th>17</th>\n",
       "      <td>2004-09-21</td>\n",
       "      <td>128.107498</td>\n",
       "      <td>131.062500</td>\n",
       "      <td>127.750000</td>\n",
       "      <td>130.725006</td>\n",
       "      <td>95.696022</td>\n",
       "      <td>13897080.0</td>\n",
       "    </tr>\n",
       "    <tr>\n",
       "      <th>18</th>\n",
       "      <td>2004-09-22</td>\n",
       "      <td>131.050003</td>\n",
       "      <td>132.000000</td>\n",
       "      <td>129.637497</td>\n",
       "      <td>131.507507</td>\n",
       "      <td>96.268822</td>\n",
       "      <td>15371584.0</td>\n",
       "    </tr>\n",
       "    <tr>\n",
       "      <th>19</th>\n",
       "      <td>2004-09-23</td>\n",
       "      <td>131.000000</td>\n",
       "      <td>131.125000</td>\n",
       "      <td>128.375000</td>\n",
       "      <td>128.782501</td>\n",
       "      <td>94.273994</td>\n",
       "      <td>15819680.0</td>\n",
       "    </tr>\n",
       "    <tr>\n",
       "      <th>20</th>\n",
       "      <td>2004-09-24</td>\n",
       "      <td>128.637497</td>\n",
       "      <td>130.000000</td>\n",
       "      <td>128.250000</td>\n",
       "      <td>128.600006</td>\n",
       "      <td>94.140434</td>\n",
       "      <td>8083208.0</td>\n",
       "    </tr>\n",
       "    <tr>\n",
       "      <th>21</th>\n",
       "      <td>2004-09-27</td>\n",
       "      <td>128.437500</td>\n",
       "      <td>129.062500</td>\n",
       "      <td>126.875000</td>\n",
       "      <td>127.595001</td>\n",
       "      <td>93.404694</td>\n",
       "      <td>8229512.0</td>\n",
       "    </tr>\n",
       "    <tr>\n",
       "      <th>22</th>\n",
       "      <td>2004-09-28</td>\n",
       "      <td>127.000000</td>\n",
       "      <td>128.425003</td>\n",
       "      <td>126.562500</td>\n",
       "      <td>126.945000</td>\n",
       "      <td>92.928886</td>\n",
       "      <td>6339416.0</td>\n",
       "    </tr>\n",
       "    <tr>\n",
       "      <th>23</th>\n",
       "      <td>2004-09-29</td>\n",
       "      <td>127.407501</td>\n",
       "      <td>129.125000</td>\n",
       "      <td>127.019997</td>\n",
       "      <td>128.875000</td>\n",
       "      <td>94.341721</td>\n",
       "      <td>11737176.0</td>\n",
       "    </tr>\n",
       "    <tr>\n",
       "      <th>24</th>\n",
       "      <td>2004-09-30</td>\n",
       "      <td>129.449997</td>\n",
       "      <td>130.112503</td>\n",
       "      <td>127.582497</td>\n",
       "      <td>128.387497</td>\n",
       "      <td>93.984879</td>\n",
       "      <td>12521432.0</td>\n",
       "    </tr>\n",
       "    <tr>\n",
       "      <th>25</th>\n",
       "      <td>2004-10-01</td>\n",
       "      <td>128.625000</td>\n",
       "      <td>132.057495</td>\n",
       "      <td>128.294998</td>\n",
       "      <td>130.962494</td>\n",
       "      <td>95.869812</td>\n",
       "      <td>10968888.0</td>\n",
       "    </tr>\n",
       "    <tr>\n",
       "      <th>26</th>\n",
       "      <td>2004-10-04</td>\n",
       "      <td>132.125000</td>\n",
       "      <td>135.125000</td>\n",
       "      <td>131.807495</td>\n",
       "      <td>134.562500</td>\n",
       "      <td>98.505196</td>\n",
       "      <td>15129824.0</td>\n",
       "    </tr>\n",
       "    <tr>\n",
       "      <th>27</th>\n",
       "      <td>2004-10-05</td>\n",
       "      <td>135.037506</td>\n",
       "      <td>136.125000</td>\n",
       "      <td>134.437500</td>\n",
       "      <td>135.087494</td>\n",
       "      <td>98.889496</td>\n",
       "      <td>14341288.0</td>\n",
       "    </tr>\n",
       "    <tr>\n",
       "      <th>28</th>\n",
       "      <td>2004-10-06</td>\n",
       "      <td>135.125000</td>\n",
       "      <td>137.850006</td>\n",
       "      <td>134.382507</td>\n",
       "      <td>135.199997</td>\n",
       "      <td>98.971901</td>\n",
       "      <td>17670664.0</td>\n",
       "    </tr>\n",
       "    <tr>\n",
       "      <th>29</th>\n",
       "      <td>2004-10-07</td>\n",
       "      <td>135.375000</td>\n",
       "      <td>137.500000</td>\n",
       "      <td>135.375000</td>\n",
       "      <td>137.137497</td>\n",
       "      <td>100.390190</td>\n",
       "      <td>10080128.0</td>\n",
       "    </tr>\n",
       "  </tbody>\n",
       "</table>\n",
       "</div>"
      ],
      "text/plain": [
       "          Date        Open        High         Low       Close   Adj Close  \\\n",
       "0   2004-08-27  122.800003  122.800003  119.820000  120.332497   88.088272   \n",
       "1   2004-08-30  121.237503  123.750000  120.625000  123.345001   90.293549   \n",
       "2   2004-08-31  123.312500  123.750000  122.000000  123.512497   90.416122   \n",
       "3   2004-09-01  123.750000  124.375000  122.949997  123.487503   90.397820   \n",
       "4   2004-09-02  123.737503  125.574997  123.250000  124.207497   90.924896   \n",
       "5   2004-09-03  125.750000  137.500000  123.794998  124.732498   91.309212   \n",
       "6   2004-09-06  129.987503  129.987503  124.112503  124.357498   91.034721   \n",
       "7   2004-09-07  129.375000  129.375000  124.375000  124.449997   91.102440   \n",
       "8   2004-09-08  124.500000  125.099998  123.887497  124.212502   90.928566   \n",
       "9   2004-09-09  124.625000  124.737503  122.307503  122.495003   89.671310   \n",
       "10  2004-09-10  123.750000  123.750000  122.000000  123.599998   90.480194   \n",
       "11  2004-09-13  123.875000  126.937500  123.875000  125.437500   91.825348   \n",
       "12  2004-09-14  125.625000  127.349998  125.370003  126.957497   92.938019   \n",
       "13  2004-09-15  127.250000  127.500000  125.150002  125.762497   92.063225   \n",
       "14  2004-09-16  125.875000  126.875000  125.312500  126.057503   92.279190   \n",
       "15  2004-09-17  126.500000  128.737503  126.287498  128.062500   93.746925   \n",
       "16  2004-09-20  129.050003  129.612503  127.519997  127.862503   93.600525   \n",
       "17  2004-09-21  128.107498  131.062500  127.750000  130.725006   95.696022   \n",
       "18  2004-09-22  131.050003  132.000000  129.637497  131.507507   96.268822   \n",
       "19  2004-09-23  131.000000  131.125000  128.375000  128.782501   94.273994   \n",
       "20  2004-09-24  128.637497  130.000000  128.250000  128.600006   94.140434   \n",
       "21  2004-09-27  128.437500  129.062500  126.875000  127.595001   93.404694   \n",
       "22  2004-09-28  127.000000  128.425003  126.562500  126.945000   92.928886   \n",
       "23  2004-09-29  127.407501  129.125000  127.019997  128.875000   94.341721   \n",
       "24  2004-09-30  129.449997  130.112503  127.582497  128.387497   93.984879   \n",
       "25  2004-10-01  128.625000  132.057495  128.294998  130.962494   95.869812   \n",
       "26  2004-10-04  132.125000  135.125000  131.807495  134.562500   98.505196   \n",
       "27  2004-10-05  135.037506  136.125000  134.437500  135.087494   98.889496   \n",
       "28  2004-10-06  135.125000  137.850006  134.382507  135.199997   98.971901   \n",
       "29  2004-10-07  135.375000  137.500000  135.375000  137.137497  100.390190   \n",
       "\n",
       "        Volume  \n",
       "0   30646000.0  \n",
       "1   24465208.0  \n",
       "2   21194656.0  \n",
       "3   19935544.0  \n",
       "4   21356352.0  \n",
       "5    9869856.0  \n",
       "6    9038672.0  \n",
       "7    5772232.0  \n",
       "8    6593984.0  \n",
       "9    7947184.0  \n",
       "10   6415072.0  \n",
       "11  20904912.0  \n",
       "12  15335472.0  \n",
       "13  11988288.0  \n",
       "14   7358224.0  \n",
       "15  14627896.0  \n",
       "16   8552224.0  \n",
       "17  13897080.0  \n",
       "18  15371584.0  \n",
       "19  15819680.0  \n",
       "20   8083208.0  \n",
       "21   8229512.0  \n",
       "22   6339416.0  \n",
       "23  11737176.0  \n",
       "24  12521432.0  \n",
       "25  10968888.0  \n",
       "26  15129824.0  \n",
       "27  14341288.0  \n",
       "28  17670664.0  \n",
       "29  10080128.0  "
      ]
     },
     "execution_count": 3,
     "metadata": {},
     "output_type": "execute_result"
    }
   ],
   "source": [
    "df = pd.read_csv('C:\\\\Users\\\\Admin\\\\Downloads\\\\TCS1.csv')\n",
    "df.head(30)"
   ]
  },
  {
   "cell_type": "markdown",
   "id": "500c4c0c",
   "metadata": {},
   "source": [
    "# Define selected features and handle missing data"
   ]
  },
  {
   "cell_type": "code",
   "execution_count": 4,
   "id": "f1bb3307",
   "metadata": {},
   "outputs": [],
   "source": [
    "selected_features = ['Open', 'High', 'Low', 'Close']"
   ]
  },
  {
   "cell_type": "code",
   "execution_count": 5,
   "id": "4d11dc41",
   "metadata": {
    "scrolled": true
   },
   "outputs": [],
   "source": [
    "df.fillna(method='ffill', inplace=True)"
   ]
  },
  {
   "cell_type": "markdown",
   "id": "c05ad338",
   "metadata": {},
   "source": [
    "# Feature scaling (MinMax scaling)"
   ]
  },
  {
   "cell_type": "code",
   "execution_count": 6,
   "id": "edb6e067",
   "metadata": {
    "scrolled": false
   },
   "outputs": [],
   "source": [
    "scaler = MinMaxScaler()\n",
    "df[selected_features] = scaler.fit_transform(df[selected_features])"
   ]
  },
  {
   "cell_type": "markdown",
   "id": "3c7b4c74",
   "metadata": {},
   "source": [
    "# Sequence data preparation (Sliding window)"
   ]
  },
  {
   "cell_type": "code",
   "execution_count": 7,
   "id": "64a3fbea",
   "metadata": {},
   "outputs": [],
   "source": [
    "def create_sequences(data, window_size):\n",
    "    X, y = [], []\n",
    "    for i in range(len(data) - window_size):\n",
    "        X.append(data[i:i+window_size])\n",
    "        y.append(data[i+window_size])\n",
    "    return np.array(X), np.array(y)\n",
    "\n",
    "window_size = 10\n",
    "X, y = create_sequences(df[selected_features].values, window_size)"
   ]
  },
  {
   "cell_type": "markdown",
   "id": "7e985485",
   "metadata": {},
   "source": [
    "# Split the data into training and testing sets"
   ]
  },
  {
   "cell_type": "code",
   "execution_count": 8,
   "id": "07a539b8",
   "metadata": {},
   "outputs": [],
   "source": [
    "X_train, X_test, y_train, y_test = train_test_split(X, y, test_size=0.2, shuffle=False)\n"
   ]
  },
  {
   "cell_type": "markdown",
   "id": "bac14ecb",
   "metadata": {},
   "source": [
    "# Build and train the LSTM model"
   ]
  },
  {
   "cell_type": "code",
   "execution_count": 9,
   "id": "9a207ac2",
   "metadata": {},
   "outputs": [],
   "source": [
    "model = Sequential()\n",
    "model.add(LSTM(units=50, activation='relu', input_shape=(window_size, len(selected_features))))\n",
    "model.add(Dense(1))\n",
    "model.compile(optimizer='adam', loss='mean_squared_error')"
   ]
  },
  {
   "cell_type": "code",
   "execution_count": 10,
   "id": "130f45fe",
   "metadata": {},
   "outputs": [
    {
     "name": "stdout",
     "output_type": "stream",
     "text": [
      "Epoch 1/10\n",
      "113/113 [==============================] - 8s 14ms/step - loss: 0.0049\n",
      "Epoch 2/10\n",
      "113/113 [==============================] - 2s 13ms/step - loss: 4.0405e-05\n",
      "Epoch 3/10\n",
      "113/113 [==============================] - 1s 12ms/step - loss: 3.4322e-05\n",
      "Epoch 4/10\n",
      "113/113 [==============================] - 1s 13ms/step - loss: 3.4459e-05\n",
      "Epoch 5/10\n",
      "113/113 [==============================] - 2s 15ms/step - loss: 3.1971e-05\n",
      "Epoch 6/10\n",
      "113/113 [==============================] - 1s 12ms/step - loss: 3.1222e-05\n",
      "Epoch 7/10\n",
      "113/113 [==============================] - 1s 13ms/step - loss: 3.0541e-05\n",
      "Epoch 8/10\n",
      "113/113 [==============================] - 2s 14ms/step - loss: 3.1030e-05\n",
      "Epoch 9/10\n",
      "113/113 [==============================] - 1s 12ms/step - loss: 3.0439e-05\n",
      "Epoch 10/10\n",
      "113/113 [==============================] - 1s 10ms/step - loss: 2.7898e-05\n"
     ]
    },
    {
     "data": {
      "text/plain": [
       "<keras.src.callbacks.History at 0x23ba29db110>"
      ]
     },
     "execution_count": 10,
     "metadata": {},
     "output_type": "execute_result"
    }
   ],
   "source": [
    "model.fit(X_train, y_train, epochs=10, batch_size=32)"
   ]
  },
  {
   "cell_type": "markdown",
   "id": "bd0bb159",
   "metadata": {},
   "source": [
    "# Make predictions on the test set"
   ]
  },
  {
   "cell_type": "code",
   "execution_count": 11,
   "id": "1cc1b7c0",
   "metadata": {},
   "outputs": [
    {
     "name": "stdout",
     "output_type": "stream",
     "text": [
      "29/29 [==============================] - 1s 7ms/step\n"
     ]
    }
   ],
   "source": [
    "y_pred = model.predict(X_test)\n",
    "y_pred = y_pred.flatten()  # Flatten the predictions"
   ]
  },
  {
   "cell_type": "markdown",
   "id": "b1c9b678",
   "metadata": {},
   "source": [
    "# Calculate evaluation metrics"
   ]
  },
  {
   "cell_type": "code",
   "execution_count": 12,
   "id": "9aac768f",
   "metadata": {},
   "outputs": [
    {
     "name": "stdout",
     "output_type": "stream",
     "text": [
      "29/29 [==============================] - 0s 9ms/step\n",
      "Mean Squared Error: 0.0029145626770691172\n",
      "Mean Absolute Error: 0.0411560144203487\n"
     ]
    }
   ],
   "source": [
    "# Ensure that y_test contains only one column, e.g., the 'Close' price\n",
    "# It should have the same shape as y_pred\n",
    "y_test = y_test[:, 3]  # Assuming 'Close' is your target variable (4th column)\n",
    "\n",
    "# Make predictions on the test set\n",
    "y_pred = model.predict(X_test)\n",
    "y_pred = y_pred.flatten()  # Flatten the predictions\n",
    "\n",
    "# Calculate evaluation metrics with the updated y_test\n",
    "mse = mean_squared_error(y_test, y_pred)\n",
    "mae = mean_absolute_error(y_test, y_pred)\n",
    "\n",
    "print(f\"Mean Squared Error: {mse}\")\n",
    "print(f\"Mean Absolute Error: {mae}\")\n"
   ]
  },
  {
   "cell_type": "markdown",
   "id": "1cf8908d",
   "metadata": {},
   "source": [
    "# Visualization"
   ]
  },
  {
   "cell_type": "code",
   "execution_count": 13,
   "id": "4c52b395",
   "metadata": {},
   "outputs": [
    {
     "data": {
      "image/png": "[encoded data removed]",
      "text/plain": [
       "<Figure size 1200x600 with 1 Axes>"
      ]
     },
     "metadata": {},
     "output_type": "display_data"
    }
   ],
   "source": [
    "plt.figure(figsize=(12, 6))\n",
    "plt.plot(y_test, label='True')\n",
    "plt.plot(y_pred, label='Predicted')\n",
    "plt.xlabel('Time Steps')\n",
    "plt.ylabel('Stock Price')\n",
    "plt.legend()\n",
    "plt.title('True vs Predicted Stock Prices')\n",
    "plt.show()"
   ]
  }
 ],
 "metadata": {
  "kernelspec": {
   "display_name": "Python 3 (ipykernel)",
   "language": "python",
   "name": "python3"
  },
  "language_info": {
   "codemirror_mode": {
    "name": "ipython",
    "version": 3
   },
   "file_extension": ".py",
   "mimetype": "text/x-python",
   "name": "python",
   "nbconvert_exporter": "python",
   "pygments_lexer": "ipython3",
   "version": "3.11.4"
  }
 },
 "nbformat": 4,
 "nbformat_minor": 5
}
